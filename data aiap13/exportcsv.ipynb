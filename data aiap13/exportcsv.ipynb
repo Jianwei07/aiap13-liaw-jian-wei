{
 "cells": [
  {
   "cell_type": "code",
   "execution_count": 7,
   "metadata": {},
   "outputs": [],
   "source": [
    "import pandas as pd\n",
    "import sqlite3\n",
    "\n",
    "# Connect to the database\n",
    "conn = sqlite3.connect(\"C:\\\\Users\\\\Jianw\\\\Documents\\\\GitHub\\\\aiap13-liaw-jian-wei-026z\\\\data aiap13\\\\failure.db\")\n",
    "\n",
    "# Read data from the table into a DataFrame\n",
    "data = pd.read_sql_query(\"SELECT * FROM Failure\", conn)\n",
    "data[\"Failure\"] = data[[\"Failure A\",\"Failure B\",\"Failure C\",\"Failure D\",\"Failure E\"]].sum(axis=1)\n",
    "\n",
    "# Close the connection\n",
    "conn.close()\n",
    "\n",
    "# Export the DataFrame to a CSV file\n",
    "data.to_csv('failure.csv', index=False)\n"
   ]
  },
  {
   "cell_type": "code",
   "execution_count": null,
   "metadata": {},
   "outputs": [],
   "source": []
  }
 ],
 "metadata": {
  "kernelspec": {
   "display_name": ".venv",
   "language": "python",
   "name": "python3"
  },
  "language_info": {
   "codemirror_mode": {
    "name": "ipython",
    "version": 3
   },
   "file_extension": ".py",
   "mimetype": "text/x-python",
   "name": "python",
   "nbconvert_exporter": "python",
   "pygments_lexer": "ipython3",
   "version": "3.11.0 (main, Oct 24 2022, 18:26:48) [MSC v.1933 64 bit (AMD64)]"
  },
  "orig_nbformat": 4,
  "vscode": {
   "interpreter": {
    "hash": "b99fb929292e37acfb79cd97501d0fe2a66a1800b7a068dcecd2851626903467"
   }
  }
 },
 "nbformat": 4,
 "nbformat_minor": 2
}
